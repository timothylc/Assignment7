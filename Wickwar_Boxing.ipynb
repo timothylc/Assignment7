{
 "cells": [
  {
   "cell_type": "markdown",
   "id": "53163d79",
   "metadata": {},
   "source": [
    "Imports Pandas, Requests, MatplotLib, and BeautifulSoup libraries "
   ]
  },
  {
   "cell_type": "code",
   "execution_count": 24,
   "id": "85db8194",
   "metadata": {},
   "outputs": [],
   "source": [
    "import pandas as pd\n",
    "import requests\n",
    "import matplotlib.pyplot as plt\n",
    "from bs4 import BeautifulSoup"
   ]
  },
  {
   "cell_type": "markdown",
   "id": "65bc318a",
   "metadata": {},
   "source": [
    "Requests to get the contents of the url using get function in Requests"
   ]
  },
  {
   "cell_type": "code",
   "execution_count": 26,
   "id": "422032b5",
   "metadata": {},
   "outputs": [],
   "source": [
    "url = \"https://en.wikipedia.org/wiki/Len_Wickwar\"\n",
    "response = requests.get(url)"
   ]
  },
  {
   "cell_type": "markdown",
   "id": "b21be55d",
   "metadata": {},
   "source": [
    "Sets soup to Python's html.parser"
   ]
  },
  {
   "cell_type": "code",
   "execution_count": 27,
   "id": "08af5e77",
   "metadata": {},
   "outputs": [],
   "source": [
    "soup = BeautifulSoup(response.text, 'html.parser')"
   ]
  },
  {
   "cell_type": "markdown",
   "id": "8eaa00c0",
   "metadata": {},
   "source": [
    "Finds all instances of a wikitable in the url"
   ]
  },
  {
   "cell_type": "code",
   "execution_count": 28,
   "id": "ae92abad",
   "metadata": {},
   "outputs": [],
   "source": [
    "wickwar_table=soup.find_all('table',{'class':\"wikitable\"})"
   ]
  },
  {
   "cell_type": "markdown",
   "id": "d47affa5",
   "metadata": {},
   "source": [
    "Gets the second wikitable that contains a list of fights"
   ]
  },
  {
   "cell_type": "code",
   "execution_count": 29,
   "id": "3e519f87",
   "metadata": {},
   "outputs": [],
   "source": [
    "fight_record = pd.read_html(str(wickwar_table[1]))"
   ]
  },
  {
   "cell_type": "markdown",
   "id": "858fae50",
   "metadata": {},
   "source": [
    "Puts the content into a dataframe fight_record"
   ]
  },
  {
   "cell_type": "code",
   "execution_count": 30,
   "id": "29bd068f",
   "metadata": {},
   "outputs": [],
   "source": [
    "fight_record = pd.DataFrame(fight_record[0])"
   ]
  },
  {
   "cell_type": "markdown",
   "id": "462df75f",
   "metadata": {},
   "source": [
    "Saves a copy of the raw data"
   ]
  },
  {
   "cell_type": "code",
   "execution_count": 31,
   "id": "ffaeab8d",
   "metadata": {},
   "outputs": [],
   "source": [
    "fight_record.to_csv(\"wickwar_raw_data.csv\")"
   ]
  },
  {
   "cell_type": "markdown",
   "id": "8f41babe",
   "metadata": {},
   "source": [
    "Displays the first five rows of fight_record"
   ]
  },
  {
   "cell_type": "code",
   "execution_count": 32,
   "id": "8eb2f775",
   "metadata": {},
   "outputs": [
    {
     "data": {
      "text/html": [
       "<div>\n",
       "<style scoped>\n",
       "    .dataframe tbody tr th:only-of-type {\n",
       "        vertical-align: middle;\n",
       "    }\n",
       "\n",
       "    .dataframe tbody tr th {\n",
       "        vertical-align: top;\n",
       "    }\n",
       "\n",
       "    .dataframe thead th {\n",
       "        text-align: right;\n",
       "    }\n",
       "</style>\n",
       "<table border=\"1\" class=\"dataframe\">\n",
       "  <thead>\n",
       "    <tr style=\"text-align: right;\">\n",
       "      <th></th>\n",
       "      <th>No.</th>\n",
       "      <th>Result</th>\n",
       "      <th>Record</th>\n",
       "      <th>Opponent</th>\n",
       "      <th>Type</th>\n",
       "      <th>Round</th>\n",
       "      <th>Date</th>\n",
       "      <th>Location</th>\n",
       "      <th>Notes</th>\n",
       "    </tr>\n",
       "  </thead>\n",
       "  <tbody>\n",
       "    <tr>\n",
       "      <th>0</th>\n",
       "      <td>473</td>\n",
       "      <td>Loss</td>\n",
       "      <td>342–86–43 (2)</td>\n",
       "      <td>Danny Cunningham</td>\n",
       "      <td>KO</td>\n",
       "      <td>5 (8)</td>\n",
       "      <td>Feb 6, 1947</td>\n",
       "      <td>New St James Hall, Newcastle, Tyne and Wear, E...</td>\n",
       "      <td>NaN</td>\n",
       "    </tr>\n",
       "    <tr>\n",
       "      <th>1</th>\n",
       "      <td>472</td>\n",
       "      <td>Win</td>\n",
       "      <td>342–85–43 (2)</td>\n",
       "      <td>Stan Hibbert</td>\n",
       "      <td>PTS</td>\n",
       "      <td>8</td>\n",
       "      <td>Dec 9, 1946</td>\n",
       "      <td>Granby Halls, Leicester, Leicestershire, England</td>\n",
       "      <td>NaN</td>\n",
       "    </tr>\n",
       "    <tr>\n",
       "      <th>2</th>\n",
       "      <td>471</td>\n",
       "      <td>Win</td>\n",
       "      <td>341–85–43 (2)</td>\n",
       "      <td>Ralph Moss</td>\n",
       "      <td>PTS</td>\n",
       "      <td>8</td>\n",
       "      <td>Dec 2, 1946</td>\n",
       "      <td>Granby Halls, Leicester, Leicestershire, England</td>\n",
       "      <td>NaN</td>\n",
       "    </tr>\n",
       "    <tr>\n",
       "      <th>3</th>\n",
       "      <td>470</td>\n",
       "      <td>Win</td>\n",
       "      <td>340–85–43 (2)</td>\n",
       "      <td>Mick Gibbons</td>\n",
       "      <td>RTD</td>\n",
       "      <td>5 (10)</td>\n",
       "      <td>Nov 11, 1946</td>\n",
       "      <td>Cossington Street Baths, Leicester, Leicesters...</td>\n",
       "      <td>NaN</td>\n",
       "    </tr>\n",
       "    <tr>\n",
       "      <th>4</th>\n",
       "      <td>469</td>\n",
       "      <td>Win</td>\n",
       "      <td>339–85–43 (2)</td>\n",
       "      <td>Ginger Ward</td>\n",
       "      <td>PTS</td>\n",
       "      <td>10</td>\n",
       "      <td>Jun 10, 1940</td>\n",
       "      <td>Skating Rink, Nuneaton, Warwickshire, England</td>\n",
       "      <td>NaN</td>\n",
       "    </tr>\n",
       "  </tbody>\n",
       "</table>\n",
       "</div>"
      ],
      "text/plain": [
       "   No. Result         Record          Opponent Type   Round          Date  \\\n",
       "0  473   Loss  342–86–43 (2)  Danny Cunningham   KO   5 (8)   Feb 6, 1947   \n",
       "1  472    Win  342–85–43 (2)      Stan Hibbert  PTS       8   Dec 9, 1946   \n",
       "2  471    Win  341–85–43 (2)        Ralph Moss  PTS       8   Dec 2, 1946   \n",
       "3  470    Win  340–85–43 (2)      Mick Gibbons  RTD  5 (10)  Nov 11, 1946   \n",
       "4  469    Win  339–85–43 (2)       Ginger Ward  PTS      10  Jun 10, 1940   \n",
       "\n",
       "                                            Location Notes  \n",
       "0  New St James Hall, Newcastle, Tyne and Wear, E...   NaN  \n",
       "1   Granby Halls, Leicester, Leicestershire, England   NaN  \n",
       "2   Granby Halls, Leicester, Leicestershire, England   NaN  \n",
       "3  Cossington Street Baths, Leicester, Leicesters...   NaN  \n",
       "4      Skating Rink, Nuneaton, Warwickshire, England   NaN  "
      ]
     },
     "execution_count": 32,
     "metadata": {},
     "output_type": "execute_result"
    }
   ],
   "source": [
    "(fight_record.head())"
   ]
  },
  {
   "cell_type": "markdown",
   "id": "ccd94fee",
   "metadata": {},
   "source": [
    "Drop Notes, Round, and Location columns as it is not necessary"
   ]
  },
  {
   "cell_type": "code",
   "execution_count": 33,
   "id": "0064c3dc",
   "metadata": {},
   "outputs": [
    {
     "data": {
      "text/html": [
       "<div>\n",
       "<style scoped>\n",
       "    .dataframe tbody tr th:only-of-type {\n",
       "        vertical-align: middle;\n",
       "    }\n",
       "\n",
       "    .dataframe tbody tr th {\n",
       "        vertical-align: top;\n",
       "    }\n",
       "\n",
       "    .dataframe thead th {\n",
       "        text-align: right;\n",
       "    }\n",
       "</style>\n",
       "<table border=\"1\" class=\"dataframe\">\n",
       "  <thead>\n",
       "    <tr style=\"text-align: right;\">\n",
       "      <th></th>\n",
       "      <th>No.</th>\n",
       "      <th>Result</th>\n",
       "      <th>Opponent</th>\n",
       "      <th>Type</th>\n",
       "      <th>Date</th>\n",
       "    </tr>\n",
       "  </thead>\n",
       "  <tbody>\n",
       "    <tr>\n",
       "      <th>0</th>\n",
       "      <td>473</td>\n",
       "      <td>Loss</td>\n",
       "      <td>Danny Cunningham</td>\n",
       "      <td>KO</td>\n",
       "      <td>Feb 6, 1947</td>\n",
       "    </tr>\n",
       "    <tr>\n",
       "      <th>1</th>\n",
       "      <td>472</td>\n",
       "      <td>Win</td>\n",
       "      <td>Stan Hibbert</td>\n",
       "      <td>PTS</td>\n",
       "      <td>Dec 9, 1946</td>\n",
       "    </tr>\n",
       "    <tr>\n",
       "      <th>2</th>\n",
       "      <td>471</td>\n",
       "      <td>Win</td>\n",
       "      <td>Ralph Moss</td>\n",
       "      <td>PTS</td>\n",
       "      <td>Dec 2, 1946</td>\n",
       "    </tr>\n",
       "    <tr>\n",
       "      <th>3</th>\n",
       "      <td>470</td>\n",
       "      <td>Win</td>\n",
       "      <td>Mick Gibbons</td>\n",
       "      <td>RTD</td>\n",
       "      <td>Nov 11, 1946</td>\n",
       "    </tr>\n",
       "    <tr>\n",
       "      <th>4</th>\n",
       "      <td>469</td>\n",
       "      <td>Win</td>\n",
       "      <td>Ginger Ward</td>\n",
       "      <td>PTS</td>\n",
       "      <td>Jun 10, 1940</td>\n",
       "    </tr>\n",
       "    <tr>\n",
       "      <th>...</th>\n",
       "      <td>...</td>\n",
       "      <td>...</td>\n",
       "      <td>...</td>\n",
       "      <td>...</td>\n",
       "      <td>...</td>\n",
       "    </tr>\n",
       "    <tr>\n",
       "      <th>468</th>\n",
       "      <td>5</td>\n",
       "      <td>Win</td>\n",
       "      <td>Harry Siddons</td>\n",
       "      <td>PTS</td>\n",
       "      <td>Dec 7, 1928</td>\n",
       "    </tr>\n",
       "    <tr>\n",
       "      <th>469</th>\n",
       "      <td>4</td>\n",
       "      <td>Win</td>\n",
       "      <td>Bobby Wood</td>\n",
       "      <td>PTS</td>\n",
       "      <td>Nov 26, 1928</td>\n",
       "    </tr>\n",
       "    <tr>\n",
       "      <th>470</th>\n",
       "      <td>3</td>\n",
       "      <td>Loss</td>\n",
       "      <td>Norman Snow</td>\n",
       "      <td>PTS</td>\n",
       "      <td>Nov 19, 1928</td>\n",
       "    </tr>\n",
       "    <tr>\n",
       "      <th>471</th>\n",
       "      <td>2</td>\n",
       "      <td>Win</td>\n",
       "      <td>Tommy Cann</td>\n",
       "      <td>PTS</td>\n",
       "      <td>Nov 13, 1928</td>\n",
       "    </tr>\n",
       "    <tr>\n",
       "      <th>472</th>\n",
       "      <td>1</td>\n",
       "      <td>Win</td>\n",
       "      <td>Jim Young Shepherdson</td>\n",
       "      <td>KO</td>\n",
       "      <td>Oct 23, 1928</td>\n",
       "    </tr>\n",
       "  </tbody>\n",
       "</table>\n",
       "<p>473 rows × 5 columns</p>\n",
       "</div>"
      ],
      "text/plain": [
       "     No. Result               Opponent Type          Date\n",
       "0    473   Loss       Danny Cunningham   KO   Feb 6, 1947\n",
       "1    472    Win           Stan Hibbert  PTS   Dec 9, 1946\n",
       "2    471    Win             Ralph Moss  PTS   Dec 2, 1946\n",
       "3    470    Win           Mick Gibbons  RTD  Nov 11, 1946\n",
       "4    469    Win            Ginger Ward  PTS  Jun 10, 1940\n",
       "..   ...    ...                    ...  ...           ...\n",
       "468    5    Win          Harry Siddons  PTS   Dec 7, 1928\n",
       "469    4    Win             Bobby Wood  PTS  Nov 26, 1928\n",
       "470    3   Loss            Norman Snow  PTS  Nov 19, 1928\n",
       "471    2    Win             Tommy Cann  PTS  Nov 13, 1928\n",
       "472    1    Win  Jim Young Shepherdson   KO  Oct 23, 1928\n",
       "\n",
       "[473 rows x 5 columns]"
      ]
     },
     "execution_count": 33,
     "metadata": {},
     "output_type": "execute_result"
    }
   ],
   "source": [
    "fight_record = fight_record.drop(columns = ['Notes', 'Round', 'Location', 'Record'])\n",
    "fight_record"
   ]
  },
  {
   "cell_type": "markdown",
   "id": "97e32e50",
   "metadata": {},
   "source": [
    "Creates a list that contain the year that the fight happened, goes through data frame and split the data to get the year"
   ]
  },
  {
   "cell_type": "code",
   "execution_count": 34,
   "id": "638ea494",
   "metadata": {},
   "outputs": [],
   "source": [
    "year = []\n",
    "\n",
    "for i in range(len(fight_record)):\n",
    "    split_date = (fight_record['Date'].iloc[i].split(\", \"))\n",
    "    year.append(split_date[1])"
   ]
  },
  {
   "cell_type": "markdown",
   "id": "e897af7a",
   "metadata": {},
   "source": [
    "Creates a new column in fight_record called Year with values of list year"
   ]
  },
  {
   "cell_type": "code",
   "execution_count": 35,
   "id": "8029d7f3",
   "metadata": {},
   "outputs": [],
   "source": [
    "fight_record['Year'] = year"
   ]
  },
  {
   "cell_type": "markdown",
   "id": "4b76e91a",
   "metadata": {},
   "source": [
    "Drop the date column from fight_record"
   ]
  },
  {
   "cell_type": "code",
   "execution_count": 36,
   "id": "e1edacb8",
   "metadata": {},
   "outputs": [],
   "source": [
    "fight_record = fight_record.drop(columns = 'Date')"
   ]
  },
  {
   "cell_type": "markdown",
   "id": "26fd77f2",
   "metadata": {},
   "source": [
    "Sort the fights in chronological order"
   ]
  },
  {
   "cell_type": "code",
   "execution_count": 37,
   "id": "7340bd8d",
   "metadata": {},
   "outputs": [
    {
     "data": {
      "text/html": [
       "<div>\n",
       "<style scoped>\n",
       "    .dataframe tbody tr th:only-of-type {\n",
       "        vertical-align: middle;\n",
       "    }\n",
       "\n",
       "    .dataframe tbody tr th {\n",
       "        vertical-align: top;\n",
       "    }\n",
       "\n",
       "    .dataframe thead th {\n",
       "        text-align: right;\n",
       "    }\n",
       "</style>\n",
       "<table border=\"1\" class=\"dataframe\">\n",
       "  <thead>\n",
       "    <tr style=\"text-align: right;\">\n",
       "      <th></th>\n",
       "      <th>No.</th>\n",
       "      <th>Result</th>\n",
       "      <th>Opponent</th>\n",
       "      <th>Type</th>\n",
       "      <th>Year</th>\n",
       "    </tr>\n",
       "  </thead>\n",
       "  <tbody>\n",
       "    <tr>\n",
       "      <th>472</th>\n",
       "      <td>1</td>\n",
       "      <td>Win</td>\n",
       "      <td>Jim Young Shepherdson</td>\n",
       "      <td>KO</td>\n",
       "      <td>1928</td>\n",
       "    </tr>\n",
       "    <tr>\n",
       "      <th>471</th>\n",
       "      <td>2</td>\n",
       "      <td>Win</td>\n",
       "      <td>Tommy Cann</td>\n",
       "      <td>PTS</td>\n",
       "      <td>1928</td>\n",
       "    </tr>\n",
       "    <tr>\n",
       "      <th>470</th>\n",
       "      <td>3</td>\n",
       "      <td>Loss</td>\n",
       "      <td>Norman Snow</td>\n",
       "      <td>PTS</td>\n",
       "      <td>1928</td>\n",
       "    </tr>\n",
       "    <tr>\n",
       "      <th>469</th>\n",
       "      <td>4</td>\n",
       "      <td>Win</td>\n",
       "      <td>Bobby Wood</td>\n",
       "      <td>PTS</td>\n",
       "      <td>1928</td>\n",
       "    </tr>\n",
       "    <tr>\n",
       "      <th>468</th>\n",
       "      <td>5</td>\n",
       "      <td>Win</td>\n",
       "      <td>Harry Siddons</td>\n",
       "      <td>PTS</td>\n",
       "      <td>1928</td>\n",
       "    </tr>\n",
       "    <tr>\n",
       "      <th>...</th>\n",
       "      <td>...</td>\n",
       "      <td>...</td>\n",
       "      <td>...</td>\n",
       "      <td>...</td>\n",
       "      <td>...</td>\n",
       "    </tr>\n",
       "    <tr>\n",
       "      <th>4</th>\n",
       "      <td>469</td>\n",
       "      <td>Win</td>\n",
       "      <td>Ginger Ward</td>\n",
       "      <td>PTS</td>\n",
       "      <td>1940</td>\n",
       "    </tr>\n",
       "    <tr>\n",
       "      <th>3</th>\n",
       "      <td>470</td>\n",
       "      <td>Win</td>\n",
       "      <td>Mick Gibbons</td>\n",
       "      <td>RTD</td>\n",
       "      <td>1946</td>\n",
       "    </tr>\n",
       "    <tr>\n",
       "      <th>2</th>\n",
       "      <td>471</td>\n",
       "      <td>Win</td>\n",
       "      <td>Ralph Moss</td>\n",
       "      <td>PTS</td>\n",
       "      <td>1946</td>\n",
       "    </tr>\n",
       "    <tr>\n",
       "      <th>1</th>\n",
       "      <td>472</td>\n",
       "      <td>Win</td>\n",
       "      <td>Stan Hibbert</td>\n",
       "      <td>PTS</td>\n",
       "      <td>1946</td>\n",
       "    </tr>\n",
       "    <tr>\n",
       "      <th>0</th>\n",
       "      <td>473</td>\n",
       "      <td>Loss</td>\n",
       "      <td>Danny Cunningham</td>\n",
       "      <td>KO</td>\n",
       "      <td>1947</td>\n",
       "    </tr>\n",
       "  </tbody>\n",
       "</table>\n",
       "<p>473 rows × 5 columns</p>\n",
       "</div>"
      ],
      "text/plain": [
       "     No. Result               Opponent Type  Year\n",
       "472    1    Win  Jim Young Shepherdson   KO  1928\n",
       "471    2    Win             Tommy Cann  PTS  1928\n",
       "470    3   Loss            Norman Snow  PTS  1928\n",
       "469    4    Win             Bobby Wood  PTS  1928\n",
       "468    5    Win          Harry Siddons  PTS  1928\n",
       "..   ...    ...                    ...  ...   ...\n",
       "4    469    Win            Ginger Ward  PTS  1940\n",
       "3    470    Win           Mick Gibbons  RTD  1946\n",
       "2    471    Win             Ralph Moss  PTS  1946\n",
       "1    472    Win           Stan Hibbert  PTS  1946\n",
       "0    473   Loss       Danny Cunningham   KO  1947\n",
       "\n",
       "[473 rows x 5 columns]"
      ]
     },
     "execution_count": 37,
     "metadata": {},
     "output_type": "execute_result"
    }
   ],
   "source": [
    "fight_record = fight_record.sort_values(by=['No.'])\n",
    "fight_record"
   ]
  },
  {
   "cell_type": "markdown",
   "id": "afd0e8cd",
   "metadata": {},
   "source": [
    "One-hot encodes the Result column in fight_record, saves to new dataframe fight_df"
   ]
  },
  {
   "cell_type": "code",
   "execution_count": 38,
   "id": "96b2b906",
   "metadata": {},
   "outputs": [
    {
     "data": {
      "text/html": [
       "<div>\n",
       "<style scoped>\n",
       "    .dataframe tbody tr th:only-of-type {\n",
       "        vertical-align: middle;\n",
       "    }\n",
       "\n",
       "    .dataframe tbody tr th {\n",
       "        vertical-align: top;\n",
       "    }\n",
       "\n",
       "    .dataframe thead th {\n",
       "        text-align: right;\n",
       "    }\n",
       "</style>\n",
       "<table border=\"1\" class=\"dataframe\">\n",
       "  <thead>\n",
       "    <tr style=\"text-align: right;\">\n",
       "      <th></th>\n",
       "      <th>No.</th>\n",
       "      <th>Opponent</th>\n",
       "      <th>Type</th>\n",
       "      <th>Year</th>\n",
       "      <th>Result_Draw</th>\n",
       "      <th>Result_Loss</th>\n",
       "      <th>Result_NC</th>\n",
       "      <th>Result_Win</th>\n",
       "    </tr>\n",
       "  </thead>\n",
       "  <tbody>\n",
       "    <tr>\n",
       "      <th>472</th>\n",
       "      <td>1</td>\n",
       "      <td>Jim Young Shepherdson</td>\n",
       "      <td>KO</td>\n",
       "      <td>1928</td>\n",
       "      <td>0</td>\n",
       "      <td>0</td>\n",
       "      <td>0</td>\n",
       "      <td>1</td>\n",
       "    </tr>\n",
       "    <tr>\n",
       "      <th>471</th>\n",
       "      <td>2</td>\n",
       "      <td>Tommy Cann</td>\n",
       "      <td>PTS</td>\n",
       "      <td>1928</td>\n",
       "      <td>0</td>\n",
       "      <td>0</td>\n",
       "      <td>0</td>\n",
       "      <td>1</td>\n",
       "    </tr>\n",
       "    <tr>\n",
       "      <th>470</th>\n",
       "      <td>3</td>\n",
       "      <td>Norman Snow</td>\n",
       "      <td>PTS</td>\n",
       "      <td>1928</td>\n",
       "      <td>0</td>\n",
       "      <td>1</td>\n",
       "      <td>0</td>\n",
       "      <td>0</td>\n",
       "    </tr>\n",
       "    <tr>\n",
       "      <th>469</th>\n",
       "      <td>4</td>\n",
       "      <td>Bobby Wood</td>\n",
       "      <td>PTS</td>\n",
       "      <td>1928</td>\n",
       "      <td>0</td>\n",
       "      <td>0</td>\n",
       "      <td>0</td>\n",
       "      <td>1</td>\n",
       "    </tr>\n",
       "    <tr>\n",
       "      <th>468</th>\n",
       "      <td>5</td>\n",
       "      <td>Harry Siddons</td>\n",
       "      <td>PTS</td>\n",
       "      <td>1928</td>\n",
       "      <td>0</td>\n",
       "      <td>0</td>\n",
       "      <td>0</td>\n",
       "      <td>1</td>\n",
       "    </tr>\n",
       "    <tr>\n",
       "      <th>...</th>\n",
       "      <td>...</td>\n",
       "      <td>...</td>\n",
       "      <td>...</td>\n",
       "      <td>...</td>\n",
       "      <td>...</td>\n",
       "      <td>...</td>\n",
       "      <td>...</td>\n",
       "      <td>...</td>\n",
       "    </tr>\n",
       "    <tr>\n",
       "      <th>4</th>\n",
       "      <td>469</td>\n",
       "      <td>Ginger Ward</td>\n",
       "      <td>PTS</td>\n",
       "      <td>1940</td>\n",
       "      <td>0</td>\n",
       "      <td>0</td>\n",
       "      <td>0</td>\n",
       "      <td>1</td>\n",
       "    </tr>\n",
       "    <tr>\n",
       "      <th>3</th>\n",
       "      <td>470</td>\n",
       "      <td>Mick Gibbons</td>\n",
       "      <td>RTD</td>\n",
       "      <td>1946</td>\n",
       "      <td>0</td>\n",
       "      <td>0</td>\n",
       "      <td>0</td>\n",
       "      <td>1</td>\n",
       "    </tr>\n",
       "    <tr>\n",
       "      <th>2</th>\n",
       "      <td>471</td>\n",
       "      <td>Ralph Moss</td>\n",
       "      <td>PTS</td>\n",
       "      <td>1946</td>\n",
       "      <td>0</td>\n",
       "      <td>0</td>\n",
       "      <td>0</td>\n",
       "      <td>1</td>\n",
       "    </tr>\n",
       "    <tr>\n",
       "      <th>1</th>\n",
       "      <td>472</td>\n",
       "      <td>Stan Hibbert</td>\n",
       "      <td>PTS</td>\n",
       "      <td>1946</td>\n",
       "      <td>0</td>\n",
       "      <td>0</td>\n",
       "      <td>0</td>\n",
       "      <td>1</td>\n",
       "    </tr>\n",
       "    <tr>\n",
       "      <th>0</th>\n",
       "      <td>473</td>\n",
       "      <td>Danny Cunningham</td>\n",
       "      <td>KO</td>\n",
       "      <td>1947</td>\n",
       "      <td>0</td>\n",
       "      <td>1</td>\n",
       "      <td>0</td>\n",
       "      <td>0</td>\n",
       "    </tr>\n",
       "  </tbody>\n",
       "</table>\n",
       "<p>473 rows × 8 columns</p>\n",
       "</div>"
      ],
      "text/plain": [
       "     No.               Opponent Type  Year  Result_Draw  Result_Loss  \\\n",
       "472    1  Jim Young Shepherdson   KO  1928            0            0   \n",
       "471    2             Tommy Cann  PTS  1928            0            0   \n",
       "470    3            Norman Snow  PTS  1928            0            1   \n",
       "469    4             Bobby Wood  PTS  1928            0            0   \n",
       "468    5          Harry Siddons  PTS  1928            0            0   \n",
       "..   ...                    ...  ...   ...          ...          ...   \n",
       "4    469            Ginger Ward  PTS  1940            0            0   \n",
       "3    470           Mick Gibbons  RTD  1946            0            0   \n",
       "2    471             Ralph Moss  PTS  1946            0            0   \n",
       "1    472           Stan Hibbert  PTS  1946            0            0   \n",
       "0    473       Danny Cunningham   KO  1947            0            1   \n",
       "\n",
       "     Result_NC  Result_Win  \n",
       "472          0           1  \n",
       "471          0           1  \n",
       "470          0           0  \n",
       "469          0           1  \n",
       "468          0           1  \n",
       "..         ...         ...  \n",
       "4            0           1  \n",
       "3            0           1  \n",
       "2            0           1  \n",
       "1            0           1  \n",
       "0            0           0  \n",
       "\n",
       "[473 rows x 8 columns]"
      ]
     },
     "execution_count": 38,
     "metadata": {},
     "output_type": "execute_result"
    }
   ],
   "source": [
    "fight_df = pd.get_dummies(fight_record,columns=['Result'])\n",
    "fight_df"
   ]
  },
  {
   "cell_type": "markdown",
   "id": "ca28bee7",
   "metadata": {},
   "source": [
    "Gets the fighter names from the Series most_fights"
   ]
  },
  {
   "cell_type": "code",
   "execution_count": 44,
   "id": "c67277f6",
   "metadata": {},
   "outputs": [],
   "source": [
    "fighters_names = fight_df.Opponent.value_counts().index.tolist()"
   ]
  },
  {
   "cell_type": "markdown",
   "id": "1c30e6cd",
   "metadata": {},
   "source": [
    "Gets a series of fighters who have fought Wickwar the most"
   ]
  },
  {
   "cell_type": "code",
   "execution_count": 45,
   "id": "7546b859",
   "metadata": {},
   "outputs": [],
   "source": [
    "most_fights = fight_df.Opponent.value_counts()\n",
    "last_top = 0"
   ]
  },
  {
   "cell_type": "markdown",
   "id": "451703cd",
   "metadata": {},
   "source": [
    "Finds the last index that has more than 5 fights"
   ]
  },
  {
   "cell_type": "code",
   "execution_count": 46,
   "id": "3e34080a",
   "metadata": {},
   "outputs": [],
   "source": [
    "for numb in range(len(most_fights)):\n",
    "    if most_fights[numb] > 5:\n",
    "        last_top = numb\n",
    "top_fighters = []\n",
    "last_top += 1"
   ]
  },
  {
   "cell_type": "markdown",
   "id": "17a20a6e",
   "metadata": {},
   "source": [
    "Gets the fighter names that fought Wickwar more than 5 times"
   ]
  },
  {
   "cell_type": "code",
   "execution_count": 47,
   "id": "5a037543",
   "metadata": {},
   "outputs": [],
   "source": [
    "for i in range(last_top):\n",
    "    top_fighters.append(fighters_names[i])\n",
    "most_fights = most_fights.head(last_top)"
   ]
  },
  {
   "cell_type": "markdown",
   "id": "cac4c7a7",
   "metadata": {},
   "source": [
    "Plots the opponents and how many times they fought Wickwar\n"
   ]
  },
  {
   "cell_type": "code",
   "execution_count": 48,
   "id": "98fcf992",
   "metadata": {},
   "outputs": [
    {
     "data": {
      "text/plain": [
       "Text(0, 0.5, 'Times fighting Wickwar')"
      ]
     },
     "execution_count": 48,
     "metadata": {},
     "output_type": "execute_result"
    },
    {
     "data": {
      "image/png": "[encoded data removed]",
      "text/plain": [
       "<Figure size 640x480 with 1 Axes>"
      ]
     },
     "metadata": {},
     "output_type": "display_data"
    }
   ],
   "source": [
    "plt.bar(top_fighters, most_fights, width = 0.4, color = 'gray')\n",
    "plt.xticks(rotation=45)\n",
    "plt.title(\"Opponents Who Faced Wickwar the most\")\n",
    "plt.xlabel(\"Fighter Name\")\n",
    "plt.ylabel(\"Times fighting Wickwar\")\n"
   ]
  },
  {
   "cell_type": "markdown",
   "id": "307897a7",
   "metadata": {},
   "source": [
    "Gets the unique values of years that Wickwar fought into list years and create counter for fights, list with wins per year, and a win counter"
   ]
  },
  {
   "cell_type": "code",
   "execution_count": 52,
   "id": "b8d5cbf7",
   "metadata": {},
   "outputs": [],
   "source": [
    "years = fight_df.Year.unique()\n",
    "\n",
    "fight_count = 0\n",
    "wins_by_year = []\n",
    "wins_count = 0"
   ]
  },
  {
   "cell_type": "markdown",
   "id": "8cf09c32",
   "metadata": {},
   "source": [
    "Goes through all of the years, and through all the elements of fight_df, increases fight_count if year matches, increases win count by value of Result_Win, and adds percentage of fights won to the wins_by_year lists\n"
   ]
  },
  {
   "cell_type": "code",
   "execution_count": 53,
   "id": "1ba3f0ce",
   "metadata": {},
   "outputs": [],
   "source": [
    "for year_i in range(len(years)):\n",
    "    for i in range(len(fight_df)):\n",
    "        if fight_df['Year'].iloc[i] == years[year_i]:\n",
    "            fight_count += 1\n",
    "            \n",
    "            wins_count += fight_df['Result_Win'].iloc[i]\n",
    "    wins_by_year.append(100 * wins_count / fight_count)  \n",
    "    \n",
    "    # resets the counter of wins and fights for the next iteration of for loop\n",
    "    wins_count = 0\n",
    "    fight_count = 0"
   ]
  },
  {
   "cell_type": "markdown",
   "id": "70b71ae0",
   "metadata": {},
   "source": [
    "Plots years as the x-axis and wins_by_year as the y-axis"
   ]
  },
  {
   "cell_type": "code",
   "execution_count": 55,
   "id": "1b3f9be6",
   "metadata": {},
   "outputs": [
    {
     "data": {
      "text/plain": [
       "Text(0.5, 1.0, \"Len Wickwar's Boxing Win Percentage By Year\")"
      ]
     },
     "execution_count": 55,
     "metadata": {},
     "output_type": "execute_result"
    },
    {
     "data": {
      "image/png": "[encoded data removed]",
      "text/plain": [
       "<Figure size 640x480 with 1 Axes>"
      ]
     },
     "metadata": {},
     "output_type": "display_data"
    }
   ],
   "source": [
    "plt.plot(years, wins_by_year, color = 'green')\n",
    "plt.xticks(rotation=45)\n",
    "plt.xlabel('Boxing Fight Year')\n",
    "plt.ylabel('Percentage of Boxing Fights Won (%)')\n",
    "plt.title(\"Len Wickwar's Boxing Win Percentage By Year\")"
   ]
  },
  {
   "cell_type": "markdown",
   "id": "600d391f",
   "metadata": {},
   "source": [
    "Gets only the elements that are losses in fight_df"
   ]
  },
  {
   "cell_type": "code",
   "execution_count": 56,
   "id": "067012fd",
   "metadata": {},
   "outputs": [
    {
     "data": {
      "text/html": [
       "<div>\n",
       "<style scoped>\n",
       "    .dataframe tbody tr th:only-of-type {\n",
       "        vertical-align: middle;\n",
       "    }\n",
       "\n",
       "    .dataframe tbody tr th {\n",
       "        vertical-align: top;\n",
       "    }\n",
       "\n",
       "    .dataframe thead th {\n",
       "        text-align: right;\n",
       "    }\n",
       "</style>\n",
       "<table border=\"1\" class=\"dataframe\">\n",
       "  <thead>\n",
       "    <tr style=\"text-align: right;\">\n",
       "      <th></th>\n",
       "      <th>No.</th>\n",
       "      <th>Opponent</th>\n",
       "      <th>Type</th>\n",
       "      <th>Year</th>\n",
       "      <th>Result_Draw</th>\n",
       "      <th>Result_Loss</th>\n",
       "      <th>Result_NC</th>\n",
       "      <th>Result_Win</th>\n",
       "    </tr>\n",
       "  </thead>\n",
       "  <tbody>\n",
       "    <tr>\n",
       "      <th>470</th>\n",
       "      <td>3</td>\n",
       "      <td>Norman Snow</td>\n",
       "      <td>PTS</td>\n",
       "      <td>1928</td>\n",
       "      <td>0</td>\n",
       "      <td>1</td>\n",
       "      <td>0</td>\n",
       "      <td>0</td>\n",
       "    </tr>\n",
       "    <tr>\n",
       "      <th>452</th>\n",
       "      <td>21</td>\n",
       "      <td>Jack Bradshaw</td>\n",
       "      <td>PTS</td>\n",
       "      <td>1929</td>\n",
       "      <td>0</td>\n",
       "      <td>1</td>\n",
       "      <td>0</td>\n",
       "      <td>0</td>\n",
       "    </tr>\n",
       "    <tr>\n",
       "      <th>443</th>\n",
       "      <td>30</td>\n",
       "      <td>Frankie Brown</td>\n",
       "      <td>KO</td>\n",
       "      <td>1929</td>\n",
       "      <td>0</td>\n",
       "      <td>1</td>\n",
       "      <td>0</td>\n",
       "      <td>0</td>\n",
       "    </tr>\n",
       "    <tr>\n",
       "      <th>437</th>\n",
       "      <td>36</td>\n",
       "      <td>Eric Jones</td>\n",
       "      <td>KO</td>\n",
       "      <td>1930</td>\n",
       "      <td>0</td>\n",
       "      <td>1</td>\n",
       "      <td>0</td>\n",
       "      <td>0</td>\n",
       "    </tr>\n",
       "    <tr>\n",
       "      <th>423</th>\n",
       "      <td>50</td>\n",
       "      <td>Tommy Upton</td>\n",
       "      <td>KO</td>\n",
       "      <td>1930</td>\n",
       "      <td>0</td>\n",
       "      <td>1</td>\n",
       "      <td>0</td>\n",
       "      <td>0</td>\n",
       "    </tr>\n",
       "    <tr>\n",
       "      <th>...</th>\n",
       "      <td>...</td>\n",
       "      <td>...</td>\n",
       "      <td>...</td>\n",
       "      <td>...</td>\n",
       "      <td>...</td>\n",
       "      <td>...</td>\n",
       "      <td>...</td>\n",
       "      <td>...</td>\n",
       "    </tr>\n",
       "    <tr>\n",
       "      <th>15</th>\n",
       "      <td>458</td>\n",
       "      <td>Jimmy Vaughan</td>\n",
       "      <td>PTS</td>\n",
       "      <td>1939</td>\n",
       "      <td>0</td>\n",
       "      <td>1</td>\n",
       "      <td>0</td>\n",
       "      <td>0</td>\n",
       "    </tr>\n",
       "    <tr>\n",
       "      <th>13</th>\n",
       "      <td>460</td>\n",
       "      <td>Les McCarthy</td>\n",
       "      <td>PTS</td>\n",
       "      <td>1939</td>\n",
       "      <td>0</td>\n",
       "      <td>1</td>\n",
       "      <td>0</td>\n",
       "      <td>0</td>\n",
       "    </tr>\n",
       "    <tr>\n",
       "      <th>9</th>\n",
       "      <td>464</td>\n",
       "      <td>Eric Boon</td>\n",
       "      <td>KO</td>\n",
       "      <td>1939</td>\n",
       "      <td>0</td>\n",
       "      <td>1</td>\n",
       "      <td>0</td>\n",
       "      <td>0</td>\n",
       "    </tr>\n",
       "    <tr>\n",
       "      <th>8</th>\n",
       "      <td>465</td>\n",
       "      <td>Benny Caplan</td>\n",
       "      <td>PTS</td>\n",
       "      <td>1939</td>\n",
       "      <td>0</td>\n",
       "      <td>1</td>\n",
       "      <td>0</td>\n",
       "      <td>0</td>\n",
       "    </tr>\n",
       "    <tr>\n",
       "      <th>0</th>\n",
       "      <td>473</td>\n",
       "      <td>Danny Cunningham</td>\n",
       "      <td>KO</td>\n",
       "      <td>1947</td>\n",
       "      <td>0</td>\n",
       "      <td>1</td>\n",
       "      <td>0</td>\n",
       "      <td>0</td>\n",
       "    </tr>\n",
       "  </tbody>\n",
       "</table>\n",
       "<p>86 rows × 8 columns</p>\n",
       "</div>"
      ],
      "text/plain": [
       "     No.          Opponent Type  Year  Result_Draw  Result_Loss  Result_NC  \\\n",
       "470    3       Norman Snow  PTS  1928            0            1          0   \n",
       "452   21     Jack Bradshaw  PTS  1929            0            1          0   \n",
       "443   30     Frankie Brown   KO  1929            0            1          0   \n",
       "437   36        Eric Jones   KO  1930            0            1          0   \n",
       "423   50       Tommy Upton   KO  1930            0            1          0   \n",
       "..   ...               ...  ...   ...          ...          ...        ...   \n",
       "15   458     Jimmy Vaughan  PTS  1939            0            1          0   \n",
       "13   460      Les McCarthy  PTS  1939            0            1          0   \n",
       "9    464         Eric Boon   KO  1939            0            1          0   \n",
       "8    465      Benny Caplan  PTS  1939            0            1          0   \n",
       "0    473  Danny Cunningham   KO  1947            0            1          0   \n",
       "\n",
       "     Result_Win  \n",
       "470           0  \n",
       "452           0  \n",
       "443           0  \n",
       "437           0  \n",
       "423           0  \n",
       "..          ...  \n",
       "15            0  \n",
       "13            0  \n",
       "9             0  \n",
       "8             0  \n",
       "0             0  \n",
       "\n",
       "[86 rows x 8 columns]"
      ]
     },
     "execution_count": 56,
     "metadata": {},
     "output_type": "execute_result"
    }
   ],
   "source": [
    "loss_df = fight_df.copy(deep = True)\n",
    "loss_df = loss_df[loss_df['Result_Loss'] == 1]\n",
    "loss_df"
   ]
  },
  {
   "cell_type": "markdown",
   "id": "dd535f48",
   "metadata": {},
   "source": [
    "Plots frequency vs. Len lost his boxing matches"
   ]
  },
  {
   "cell_type": "code",
   "execution_count": 57,
   "id": "98fdaef3",
   "metadata": {},
   "outputs": [
    {
     "data": {
      "text/plain": [
       "Text(0.5, 1.0, 'Frequency v. Method Len was defeated')"
      ]
     },
     "execution_count": 57,
     "metadata": {},
     "output_type": "execute_result"
    },
    {
     "data": {
      "image/png": "[encoded data removed]",
      "text/plain": [
       "<Figure size 640x480 with 1 Axes>"
      ]
     },
     "metadata": {},
     "output_type": "display_data"
    }
   ],
   "source": [
    "plt.hist(loss_df['Type'], color = 'maroon')\n",
    "plt.xlabel(\"Method Len was defeated\")\n",
    "plt.ylabel(\"Frequency\")\n",
    "plt.title(\"Frequency v. Method Len was defeated\")"
   ]
  }
 ],
 "metadata": {
  "kernelspec": {
   "display_name": "Python 3 (ipykernel)",
   "language": "python",
   "name": "python3"
  },
  "language_info": {
   "codemirror_mode": {
    "name": "ipython",
    "version": 3
   },
   "file_extension": ".py",
   "mimetype": "text/x-python",
   "name": "python",
   "nbconvert_exporter": "python",
   "pygments_lexer": "ipython3",
   "version": "3.11.1"
  }
 },
 "nbformat": 4,
 "nbformat_minor": 5
}
